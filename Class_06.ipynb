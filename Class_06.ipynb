{
 "cells": [
  {
   "cell_type": "code",
   "execution_count": 35,
   "id": "972f3942",
   "metadata": {},
   "outputs": [
    {
     "ename": "SyntaxError",
     "evalue": "Missing parentheses in call to 'print'. Did you mean print(...)? (3538039286.py, line 5)",
     "output_type": "error",
     "traceback": [
      "\u001b[1;36m  Cell \u001b[1;32mIn[35], line 5\u001b[1;36m\u001b[0m\n\u001b[1;33m    print i\u001b[0m\n\u001b[1;37m    ^\u001b[0m\n\u001b[1;31mSyntaxError\u001b[0m\u001b[1;31m:\u001b[0m Missing parentheses in call to 'print'. Did you mean print(...)?\n"
     ]
    }
   ],
   "source": [
    "# range fucntion\n",
    "# rang(start,end, increment)\n",
    "\n",
    "for i in range(10):\n",
    "    print i"
   ]
  },
  {
   "cell_type": "code",
   "execution_count": 5,
   "id": "3ea1c954",
   "metadata": {},
   "outputs": [
    {
     "name": "stdout",
     "output_type": "stream",
     "text": [
      "range(0, 10)\n",
      "[0, 1, 2, 3, 4, 5, 6, 7, 8, 9]\n"
     ]
    }
   ],
   "source": [
    "a= range(0,10,1)\n",
    "print(a)\n",
    "print(list(a))"
   ]
  },
  {
   "cell_type": "code",
   "execution_count": 8,
   "id": "bf057626",
   "metadata": {},
   "outputs": [
    {
     "name": "stdout",
     "output_type": "stream",
     "text": [
      "[0 1 2 3 4 5 6 7 8 9]\n"
     ]
    }
   ],
   "source": [
    "# numpy fuction arrange ber kore\n",
    "\n",
    "import numpy as np\n",
    "a= np.arange(0,10,1)\n",
    "print(a)"
   ]
  },
  {
   "cell_type": "code",
   "execution_count": 11,
   "id": "e713dcbb",
   "metadata": {},
   "outputs": [
    {
     "name": "stdout",
     "output_type": "stream",
     "text": [
      "4\n",
      "12\n",
      "18\n",
      "15\n"
     ]
    }
   ],
   "source": [
    "## function: Lambda ke annynomus nameo daka hoi\n",
    "#Syntax\n",
    "# Lamda x:x**2\n",
    "\n",
    "b=lambda x:x**2\n",
    "print(b(2))\n",
    "b=lambda x:x+10\n",
    "print(b(2))\n",
    "b=lambda x,y:x**y+10\n",
    "print(b(2,3))\n",
    "b=lambda x,y:x+y+10\n",
    "print(b(2,3))\n"
   ]
  },
  {
   "cell_type": "code",
   "execution_count": 13,
   "id": "ce0bfe63",
   "metadata": {},
   "outputs": [
    {
     "ename": "TypeError",
     "evalue": "'function' object is not subscriptable",
     "output_type": "error",
     "traceback": [
      "\u001b[1;31m---------------------------------------------------------------------------\u001b[0m",
      "\u001b[1;31mTypeError\u001b[0m                                 Traceback (most recent call last)",
      "Cell \u001b[1;32mIn[13], line 4\u001b[0m\n\u001b[0;32m      1\u001b[0m \u001b[38;5;66;03m##lambda x:x**2\u001b[39;00m\n\u001b[0;32m      3\u001b[0m b\u001b[38;5;241m=\u001b[39m \u001b[38;5;28;01mlambda\u001b[39;00m x:x\u001b[38;5;241m*\u001b[39m\u001b[38;5;241m*\u001b[39m\u001b[38;5;241m2\u001b[39m\n\u001b[1;32m----> 4\u001b[0m \u001b[38;5;28mprint\u001b[39m(b[\u001b[38;5;241m1\u001b[39m,\u001b[38;5;241m2\u001b[39m,\u001b[38;5;241m3\u001b[39m])\n",
      "\u001b[1;31mTypeError\u001b[0m: 'function' object is not subscriptable"
     ]
    }
   ],
   "source": [
    "##lambda x:x**2\n",
    "## lambda limotation se eksathe besi songha korte parena se ekta ekta kore\n",
    "b= lambda x:x**2\n",
    "print(b[1,2,3])"
   ]
  },
  {
   "cell_type": "code",
   "execution_count": 15,
   "id": "73739b08",
   "metadata": {},
   "outputs": [
    {
     "name": "stdout",
     "output_type": "stream",
     "text": [
      "[1, 4, 9]\n"
     ]
    }
   ],
   "source": [
    "## lamdafail korle map ante hoi\n",
    "##map(function,iterable)\n",
    "\n",
    "c=map(lambda x:x**2, [1,2,3])\n",
    "print(list(c))"
   ]
  },
  {
   "cell_type": "code",
   "execution_count": 17,
   "id": "f436f6d6",
   "metadata": {},
   "outputs": [
    {
     "name": "stdout",
     "output_type": "stream",
     "text": [
      "[6, 8, 10]\n"
     ]
    }
   ],
   "source": [
    "c=map(lambda x,y:x+y, [1,2,3],[5,6,7])\n",
    "print(list(c))"
   ]
  },
  {
   "cell_type": "code",
   "execution_count": 21,
   "id": "21c02e2f",
   "metadata": {},
   "outputs": [
    {
     "name": "stdout",
     "output_type": "stream",
     "text": [
      "[8, 13, 19]\n"
     ]
    }
   ],
   "source": [
    "c=map(lambda x,y,z:x+y+z, [1,2,3],[5,6,7],[2,5,9])\n",
    "print(list(c))"
   ]
  },
  {
   "cell_type": "code",
   "execution_count": 23,
   "id": "9be3858f",
   "metadata": {},
   "outputs": [
    {
     "name": "stdout",
     "output_type": "stream",
     "text": [
      "[10, 60, 189]\n"
     ]
    }
   ],
   "source": [
    "c=map(lambda x,y,z:x*y*z, [1,2,3],[5,6,7],[2,5,9])\n",
    "print(list(c))"
   ]
  },
  {
   "cell_type": "code",
   "execution_count": 24,
   "id": "31cfd74f",
   "metadata": {},
   "outputs": [
    {
     "name": "stdout",
     "output_type": "stream",
     "text": [
      "[1, 4, 9]\n"
     ]
    }
   ],
   "source": [
    "c=map(lambda x:x*x, [1,2,3])\n",
    "print(list(c))"
   ]
  },
  {
   "cell_type": "code",
   "execution_count": 18,
   "id": "e82d8b2a",
   "metadata": {},
   "outputs": [
    {
     "name": "stdout",
     "output_type": "stream",
     "text": [
      "[False, True, False, True, False, True, False, True, False]\n"
     ]
    }
   ],
   "source": [
    "## map dia even number ber kora\n",
    "\n",
    "n=list(range(1,10))\n",
    "a=map(lambda x:x%2==0,n)\n",
    "print(list(a))"
   ]
  },
  {
   "cell_type": "code",
   "execution_count": 20,
   "id": "2f85afdb",
   "metadata": {},
   "outputs": [
    {
     "name": "stdout",
     "output_type": "stream",
     "text": [
      "[2, 4, 6, 8]\n"
     ]
    }
   ],
   "source": [
    "# filter dia even number ber kora\n",
    "\n",
    "n=list(range(1,10))\n",
    "a=filter(lambda x:x%2==0,n)\n",
    "print(list(a))"
   ]
  },
  {
   "cell_type": "code",
   "execution_count": 22,
   "id": "bb16bbf4",
   "metadata": {},
   "outputs": [
    {
     "name": "stdout",
     "output_type": "stream",
     "text": [
      "120\n"
     ]
    }
   ],
   "source": [
    "## reduce function er babohar\n",
    "## onno map ba filter dia eki man k bar bar gun  kore gunfol prokas korte parena like 1*2*3*4*5=120\n",
    "\n",
    "from functools import reduce\n",
    "b= reduce(lambda x,y:x*y, [1,2,3,4,5])\n",
    "print(b)"
   ]
  },
  {
   "cell_type": "code",
   "execution_count": 29,
   "id": "5f79a7b7",
   "metadata": {},
   "outputs": [
    {
     "ename": "IndentationError",
     "evalue": "expected an indented block after function definition on line 3 (1000985551.py, line 4)",
     "output_type": "error",
     "traceback": [
      "\u001b[1;36m  Cell \u001b[1;32mIn[29], line 4\u001b[1;36m\u001b[0m\n\u001b[1;33m    return a+b:\u001b[0m\n\u001b[1;37m    ^\u001b[0m\n\u001b[1;31mIndentationError\u001b[0m\u001b[1;31m:\u001b[0m expected an indented block after function definition on line 3\n"
     ]
    }
   ],
   "source": [
    "## functionn decleration\n",
    "\n",
    "def addition(a,b):\n",
    "return a+b\n",
    "\n",
    "d1= addition (4,5)\n",
    "print(d1)\n",
    "\n"
   ]
  },
  {
   "cell_type": "code",
   "execution_count": 34,
   "id": "e8f94fc8",
   "metadata": {},
   "outputs": [
    {
     "ename": "AttributeError",
     "evalue": "'tuple' object has no attribute 'items'",
     "output_type": "error",
     "traceback": [
      "\u001b[1;31m---------------------------------------------------------------------------\u001b[0m",
      "\u001b[1;31mAttributeError\u001b[0m                            Traceback (most recent call last)",
      "Cell \u001b[1;32mIn[34], line 8\u001b[0m\n\u001b[0;32m      5\u001b[0m     \u001b[38;5;28;01mfor\u001b[39;00m key, value \u001b[38;5;129;01min\u001b[39;00m data\u001b[38;5;241m.\u001b[39mitems():\n\u001b[0;32m      6\u001b[0m         \u001b[38;5;28mprint\u001b[39m(\u001b[38;5;124m\"\u001b[39m\u001b[38;5;124mmy \u001b[39m\u001b[38;5;132;01m{}\u001b[39;00m\u001b[38;5;124m is \u001b[39m\u001b[38;5;132;01m{}\u001b[39;00m\u001b[38;5;124m \u001b[39m\u001b[38;5;124m\"\u001b[39m\u001b[38;5;241m.\u001b[39mformat(key,value))\n\u001b[1;32m----> 8\u001b[0m keyword_number(\u001b[38;5;241m20\u001b[39m,\u001b[38;5;241m50\u001b[39m)\n",
      "Cell \u001b[1;32mIn[34], line 5\u001b[0m, in \u001b[0;36mkeyword_number\u001b[1;34m(*data)\u001b[0m\n\u001b[0;32m      4\u001b[0m \u001b[38;5;28;01mdef\u001b[39;00m \u001b[38;5;21mkeyword_number\u001b[39m(\u001b[38;5;241m*\u001b[39mdata):\n\u001b[1;32m----> 5\u001b[0m     \u001b[38;5;28;01mfor\u001b[39;00m key, value \u001b[38;5;129;01min\u001b[39;00m data\u001b[38;5;241m.\u001b[39mitems():\n\u001b[0;32m      6\u001b[0m         \u001b[38;5;28mprint\u001b[39m(\u001b[38;5;124m\"\u001b[39m\u001b[38;5;124mmy \u001b[39m\u001b[38;5;132;01m{}\u001b[39;00m\u001b[38;5;124m is \u001b[39m\u001b[38;5;132;01m{}\u001b[39;00m\u001b[38;5;124m \u001b[39m\u001b[38;5;124m\"\u001b[39m\u001b[38;5;241m.\u001b[39mformat(key,value))\n",
      "\u001b[1;31mAttributeError\u001b[0m: 'tuple' object has no attribute 'items'"
     ]
    }
   ],
   "source": [
    "# langth chnage korbo kintu keyword dite parbona se khetre kuno keyword aste parbena ei jonno ekta * dite hoi\n",
    "#tuple' object has no attribute 'items'\n",
    "\n",
    "def keyword_number(*data):\n",
    "    for key, value in data.items():\n",
    "        print(\"my {} is {} \".format(key,value))\n",
    "        \n",
    "keyword_number(20,50)"
   ]
  },
  {
   "cell_type": "code",
   "execution_count": null,
   "id": "c2694e9f",
   "metadata": {},
   "outputs": [],
   "source": [
    "# aber length aber keyword o babohar kora jabe jodi ** dewa jai \n",
    "\n",
    "def keyword_number(**data):\n",
    "    for key, value in data.items():\n",
    "        print(\"my {} is {} \".format(key,value))\n",
    "        \n",
    "keyword_number(first_name=\"John\",last_name=\"kendy\",Age=20)"
   ]
  }
 ],
 "metadata": {
  "kernelspec": {
   "display_name": "Python [conda env:base] *",
   "language": "python",
   "name": "conda-base-py"
  },
  "language_info": {
   "codemirror_mode": {
    "name": "ipython",
    "version": 3
   },
   "file_extension": ".py",
   "mimetype": "text/x-python",
   "name": "python",
   "nbconvert_exporter": "python",
   "pygments_lexer": "ipython3",
   "version": "3.12.4"
  }
 },
 "nbformat": 4,
 "nbformat_minor": 5
}

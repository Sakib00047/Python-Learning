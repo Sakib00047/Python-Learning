{
 "cells": [
  {
   "cell_type": "markdown",
   "id": "698e7d79",
   "metadata": {},
   "source": [
    "IICT _27_class 04_ Panda"
   ]
  },
  {
   "cell_type": "code",
   "execution_count": 1,
   "id": "ed805122",
   "metadata": {},
   "outputs": [],
   "source": [
    "import pandas as pd\n",
    "import numpy as np"
   ]
  },
  {
   "cell_type": "markdown",
   "id": "1cb91854",
   "metadata": {},
   "source": [
    "check pandas version"
   ]
  },
  {
   "cell_type": "code",
   "execution_count": 2,
   "id": "12c09430",
   "metadata": {},
   "outputs": [
    {
     "name": "stdout",
     "output_type": "stream",
     "text": [
      "1.4.4\n"
     ]
    }
   ],
   "source": [
    "print(pd.__version__)"
   ]
  },
  {
   "cell_type": "markdown",
   "id": "aa4d2af9",
   "metadata": {},
   "source": [
    "f string kmne use korte hoi"
   ]
  },
  {
   "cell_type": "code",
   "execution_count": 3,
   "id": "8fbac044",
   "metadata": {},
   "outputs": [
    {
     "name": "stdout",
     "output_type": "stream",
     "text": [
      "pandas version: 1.4.4\n"
     ]
    }
   ],
   "source": [
    "print(f\"pandas version: {pd.__version__}\")"
   ]
  },
  {
   "cell_type": "code",
   "execution_count": 8,
   "id": "86947d78",
   "metadata": {},
   "outputs": [
    {
     "name": "stdout",
     "output_type": "stream",
     "text": [
      "<class 'pandas.core.series.Series'>\n"
     ]
    }
   ],
   "source": [
    "demo_list=[1,2,3]\n",
    "a= pd.Series(demo_list)\n",
    "print(type(a))"
   ]
  },
  {
   "cell_type": "code",
   "execution_count": 9,
   "id": "0d5850ee",
   "metadata": {},
   "outputs": [
    {
     "name": "stdout",
     "output_type": "stream",
     "text": [
      "0       BMW\n",
      "1    toyota\n",
      "2     Honda\n",
      "dtype: object\n",
      "0      Red\n",
      "1    white\n",
      "2     Blue\n",
      "dtype: object\n"
     ]
    }
   ],
   "source": [
    "cars=pd.Series([\"BMW\",\"toyota\",\"Honda\"])\n",
    "colors= pd.Series([\"Red\",\"white\",\"Blue\"])\n",
    "print(cars)\n",
    "print(colors)"
   ]
  },
  {
   "cell_type": "code",
   "execution_count": 10,
   "id": "5818ad68",
   "metadata": {},
   "outputs": [
    {
     "data": {
      "text/html": [
       "<div>\n",
       "<style scoped>\n",
       "    .dataframe tbody tr th:only-of-type {\n",
       "        vertical-align: middle;\n",
       "    }\n",
       "\n",
       "    .dataframe tbody tr th {\n",
       "        vertical-align: top;\n",
       "    }\n",
       "\n",
       "    .dataframe thead th {\n",
       "        text-align: right;\n",
       "    }\n",
       "</style>\n",
       "<table border=\"1\" class=\"dataframe\">\n",
       "  <thead>\n",
       "    <tr style=\"text-align: right;\">\n",
       "      <th></th>\n",
       "      <th>car type</th>\n",
       "      <th>car color</th>\n",
       "    </tr>\n",
       "  </thead>\n",
       "  <tbody>\n",
       "    <tr>\n",
       "      <th>0</th>\n",
       "      <td>BMW</td>\n",
       "      <td>Red</td>\n",
       "    </tr>\n",
       "    <tr>\n",
       "      <th>1</th>\n",
       "      <td>toyota</td>\n",
       "      <td>white</td>\n",
       "    </tr>\n",
       "    <tr>\n",
       "      <th>2</th>\n",
       "      <td>Honda</td>\n",
       "      <td>Blue</td>\n",
       "    </tr>\n",
       "  </tbody>\n",
       "</table>\n",
       "</div>"
      ],
      "text/plain": [
       "  car type car color\n",
       "0      BMW       Red\n",
       "1   toyota     white\n",
       "2    Honda      Blue"
      ]
     },
     "metadata": {},
     "output_type": "display_data"
    }
   ],
   "source": [
    "car_color=pd.DataFrame({\"car type\":cars, \"car color\":colors})\n",
    "display(car_color)"
   ]
  },
  {
   "cell_type": "markdown",
   "id": "64281c80",
   "metadata": {},
   "source": [
    "ekta dataframe toiri kora dictionnaryr madhome"
   ]
  },
  {
   "cell_type": "code",
   "execution_count": 15,
   "id": "25ae28c3",
   "metadata": {},
   "outputs": [
    {
     "data": {
      "text/html": [
       "<div>\n",
       "<style scoped>\n",
       "    .dataframe tbody tr th:only-of-type {\n",
       "        vertical-align: middle;\n",
       "    }\n",
       "\n",
       "    .dataframe tbody tr th {\n",
       "        vertical-align: top;\n",
       "    }\n",
       "\n",
       "    .dataframe thead th {\n",
       "        text-align: right;\n",
       "    }\n",
       "</style>\n",
       "<table border=\"1\" class=\"dataframe\">\n",
       "  <thead>\n",
       "    <tr style=\"text-align: right;\">\n",
       "      <th></th>\n",
       "      <th>Name</th>\n",
       "      <th>Age</th>\n",
       "      <th>Dept</th>\n",
       "      <th>Score</th>\n",
       "      <th>Grad. year</th>\n",
       "      <th>Schoolarship</th>\n",
       "    </tr>\n",
       "  </thead>\n",
       "  <tbody>\n",
       "    <tr>\n",
       "      <th>0</th>\n",
       "      <td>Sakib</td>\n",
       "      <td>24</td>\n",
       "      <td>URP</td>\n",
       "      <td>63</td>\n",
       "      <td>2026</td>\n",
       "      <td>False</td>\n",
       "    </tr>\n",
       "    <tr>\n",
       "      <th>1</th>\n",
       "      <td>Momin</td>\n",
       "      <td>25</td>\n",
       "      <td>ME</td>\n",
       "      <td>80</td>\n",
       "      <td>2025</td>\n",
       "      <td>True</td>\n",
       "    </tr>\n",
       "    <tr>\n",
       "      <th>2</th>\n",
       "      <td>kawsar</td>\n",
       "      <td>26</td>\n",
       "      <td>CE</td>\n",
       "      <td>90</td>\n",
       "      <td>2024</td>\n",
       "      <td>False</td>\n",
       "    </tr>\n",
       "    <tr>\n",
       "      <th>3</th>\n",
       "      <td>Sakiba</td>\n",
       "      <td>24</td>\n",
       "      <td>CSE</td>\n",
       "      <td>63</td>\n",
       "      <td>2026</td>\n",
       "      <td>False</td>\n",
       "    </tr>\n",
       "    <tr>\n",
       "      <th>4</th>\n",
       "      <td>Mominul</td>\n",
       "      <td>25</td>\n",
       "      <td>EEE</td>\n",
       "      <td>80</td>\n",
       "      <td>2025</td>\n",
       "      <td>True</td>\n",
       "    </tr>\n",
       "    <tr>\n",
       "      <th>5</th>\n",
       "      <td>kawsary</td>\n",
       "      <td>26</td>\n",
       "      <td>GCE</td>\n",
       "      <td>90</td>\n",
       "      <td>2024</td>\n",
       "      <td>False</td>\n",
       "    </tr>\n",
       "  </tbody>\n",
       "</table>\n",
       "</div>"
      ],
      "text/plain": [
       "      Name  Age Dept  Score  Grad. year  Schoolarship\n",
       "0    Sakib   24  URP     63        2026         False\n",
       "1    Momin   25   ME     80        2025          True\n",
       "2   kawsar   26   CE     90        2024         False\n",
       "3   Sakiba   24  CSE     63        2026         False\n",
       "4  Mominul   25  EEE     80        2025          True\n",
       "5  kawsary   26  GCE     90        2024         False"
      ]
     },
     "metadata": {},
     "output_type": "display_data"
    }
   ],
   "source": [
    "student_data={\"Name\":[\"Sakib\",\"Momin\",\"kawsar\",\"Sakiba\",\"Mominul\",\"kawsary\"],\n",
    "              \"Age\":[24,25,26,24,25,26],\n",
    "              \"Dept\":[\"URP\",\"ME\",\"CE\",\"CSE\",\"EEE\",\"GCE\"],\n",
    "              \"Score\":[63,80,90,63,80,90],\n",
    "             \"Grad. year\":[2026,2025,2024,2026,2025,2024],\n",
    "             \"Schoolarship\":[False,True,False,False,True,False]}\n",
    "a=pd.DataFrame(student_data)\n",
    "display(a)"
   ]
  },
  {
   "cell_type": "markdown",
   "id": "998dfc30",
   "metadata": {},
   "source": [
    "ei command dara kuno boro data set er prothom 5 ta row data dekha jabe"
   ]
  },
  {
   "cell_type": "code",
   "execution_count": 17,
   "id": "dc5b7f6f",
   "metadata": {},
   "outputs": [
    {
     "name": "stdout",
     "output_type": "stream",
     "text": [
      "      Name  Age Dept  Score  Grad. year  Schoolarship\n",
      "0    Sakib   24  URP     63        2026         False\n",
      "1    Momin   25   ME     80        2025          True\n",
      "2   kawsar   26   CE     90        2024         False\n",
      "3   Sakiba   24  CSE     63        2026         False\n",
      "4  Mominul   25  EEE     80        2025          True\n"
     ]
    }
   ],
   "source": [
    "print(a.head())"
   ]
  },
  {
   "cell_type": "markdown",
   "id": "bf85b897",
   "metadata": {},
   "source": [
    "last er 5 ta row dite parbe"
   ]
  },
  {
   "cell_type": "code",
   "execution_count": 18,
   "id": "6d21b4db",
   "metadata": {},
   "outputs": [
    {
     "name": "stdout",
     "output_type": "stream",
     "text": [
      "      Name  Age Dept  Score  Grad. year  Schoolarship\n",
      "1    Momin   25   ME     80        2025          True\n",
      "2   kawsar   26   CE     90        2024         False\n",
      "3   Sakiba   24  CSE     63        2026         False\n",
      "4  Mominul   25  EEE     80        2025          True\n",
      "5  kawsary   26  GCE     90        2024         False\n"
     ]
    }
   ],
   "source": [
    "print(a.tail())"
   ]
  },
  {
   "cell_type": "markdown",
   "id": "56153c3f",
   "metadata": {},
   "source": [
    "eikhan a j ekta faka () dwa hoi oita holo function bujanor jonno\n",
    "attribute hole () drkar nai.\n",
    "r ei fuction ta sob kisu min median mode sob eksathe analysis kore dibe\n",
    "\n",
    "eikhan a se numeric value gulo dibe string dibena"
   ]
  },
  {
   "cell_type": "code",
   "execution_count": 19,
   "id": "773627f2",
   "metadata": {},
   "outputs": [
    {
     "data": {
      "text/html": [
       "<div>\n",
       "<style scoped>\n",
       "    .dataframe tbody tr th:only-of-type {\n",
       "        vertical-align: middle;\n",
       "    }\n",
       "\n",
       "    .dataframe tbody tr th {\n",
       "        vertical-align: top;\n",
       "    }\n",
       "\n",
       "    .dataframe thead th {\n",
       "        text-align: right;\n",
       "    }\n",
       "</style>\n",
       "<table border=\"1\" class=\"dataframe\">\n",
       "  <thead>\n",
       "    <tr style=\"text-align: right;\">\n",
       "      <th></th>\n",
       "      <th>Age</th>\n",
       "      <th>Score</th>\n",
       "      <th>Grad. year</th>\n",
       "    </tr>\n",
       "  </thead>\n",
       "  <tbody>\n",
       "    <tr>\n",
       "      <th>count</th>\n",
       "      <td>6.000000</td>\n",
       "      <td>6.000000</td>\n",
       "      <td>6.000000</td>\n",
       "    </tr>\n",
       "    <tr>\n",
       "      <th>mean</th>\n",
       "      <td>25.000000</td>\n",
       "      <td>77.666667</td>\n",
       "      <td>2025.000000</td>\n",
       "    </tr>\n",
       "    <tr>\n",
       "      <th>std</th>\n",
       "      <td>0.894427</td>\n",
       "      <td>12.209286</td>\n",
       "      <td>0.894427</td>\n",
       "    </tr>\n",
       "    <tr>\n",
       "      <th>min</th>\n",
       "      <td>24.000000</td>\n",
       "      <td>63.000000</td>\n",
       "      <td>2024.000000</td>\n",
       "    </tr>\n",
       "    <tr>\n",
       "      <th>25%</th>\n",
       "      <td>24.250000</td>\n",
       "      <td>67.250000</td>\n",
       "      <td>2024.250000</td>\n",
       "    </tr>\n",
       "    <tr>\n",
       "      <th>50%</th>\n",
       "      <td>25.000000</td>\n",
       "      <td>80.000000</td>\n",
       "      <td>2025.000000</td>\n",
       "    </tr>\n",
       "    <tr>\n",
       "      <th>75%</th>\n",
       "      <td>25.750000</td>\n",
       "      <td>87.500000</td>\n",
       "      <td>2025.750000</td>\n",
       "    </tr>\n",
       "    <tr>\n",
       "      <th>max</th>\n",
       "      <td>26.000000</td>\n",
       "      <td>90.000000</td>\n",
       "      <td>2026.000000</td>\n",
       "    </tr>\n",
       "  </tbody>\n",
       "</table>\n",
       "</div>"
      ],
      "text/plain": [
       "             Age      Score   Grad. year\n",
       "count   6.000000   6.000000     6.000000\n",
       "mean   25.000000  77.666667  2025.000000\n",
       "std     0.894427  12.209286     0.894427\n",
       "min    24.000000  63.000000  2024.000000\n",
       "25%    24.250000  67.250000  2024.250000\n",
       "50%    25.000000  80.000000  2025.000000\n",
       "75%    25.750000  87.500000  2025.750000\n",
       "max    26.000000  90.000000  2026.000000"
      ]
     },
     "metadata": {},
     "output_type": "display_data"
    }
   ],
   "source": [
    "display(a.describe())"
   ]
  },
  {
   "cell_type": "code",
   "execution_count": 20,
   "id": "b0b3dcea",
   "metadata": {},
   "outputs": [
    {
     "name": "stdout",
     "output_type": "stream",
     "text": [
      "<class 'pandas.core.frame.DataFrame'>\n",
      "RangeIndex: 6 entries, 0 to 5\n",
      "Data columns (total 6 columns):\n",
      " #   Column        Non-Null Count  Dtype \n",
      "---  ------        --------------  ----- \n",
      " 0   Name          6 non-null      object\n",
      " 1   Age           6 non-null      int64 \n",
      " 2   Dept          6 non-null      object\n",
      " 3   Score         6 non-null      int64 \n",
      " 4   Grad. year    6 non-null      int64 \n",
      " 5   Schoolarship  6 non-null      bool  \n",
      "dtypes: bool(1), int64(3), object(2)\n",
      "memory usage: 374.0+ bytes\n"
     ]
    },
    {
     "data": {
      "text/plain": [
       "None"
      ]
     },
     "metadata": {},
     "output_type": "display_data"
    }
   ],
   "source": [
    "display(a.info())"
   ]
  },
  {
   "cell_type": "code",
   "execution_count": 21,
   "id": "f527bd9e",
   "metadata": {},
   "outputs": [
    {
     "name": "stdout",
     "output_type": "stream",
     "text": [
      "(6, 6)\n"
     ]
    }
   ],
   "source": [
    "print(a.shape)"
   ]
  },
  {
   "cell_type": "markdown",
   "id": "b40ef9cb",
   "metadata": {},
   "source": [
    "data management nan number missing value"
   ]
  },
  {
   "cell_type": "code",
   "execution_count": 22,
   "id": "0c5d248a",
   "metadata": {},
   "outputs": [
    {
     "data": {
      "text/html": [
       "<div>\n",
       "<style scoped>\n",
       "    .dataframe tbody tr th:only-of-type {\n",
       "        vertical-align: middle;\n",
       "    }\n",
       "\n",
       "    .dataframe tbody tr th {\n",
       "        vertical-align: top;\n",
       "    }\n",
       "\n",
       "    .dataframe thead th {\n",
       "        text-align: right;\n",
       "    }\n",
       "</style>\n",
       "<table border=\"1\" class=\"dataframe\">\n",
       "  <thead>\n",
       "    <tr style=\"text-align: right;\">\n",
       "      <th></th>\n",
       "      <th>Name</th>\n",
       "      <th>Age</th>\n",
       "      <th>Dept</th>\n",
       "      <th>Score</th>\n",
       "      <th>Grad. year</th>\n",
       "      <th>Schoolarship</th>\n",
       "    </tr>\n",
       "  </thead>\n",
       "  <tbody>\n",
       "    <tr>\n",
       "      <th>0</th>\n",
       "      <td>Sakib</td>\n",
       "      <td>24.0</td>\n",
       "      <td>URP</td>\n",
       "      <td>63</td>\n",
       "      <td>2026.0</td>\n",
       "      <td>False</td>\n",
       "    </tr>\n",
       "    <tr>\n",
       "      <th>1</th>\n",
       "      <td>Momin</td>\n",
       "      <td>25.0</td>\n",
       "      <td>ME</td>\n",
       "      <td>80</td>\n",
       "      <td>2025.0</td>\n",
       "      <td>True</td>\n",
       "    </tr>\n",
       "    <tr>\n",
       "      <th>2</th>\n",
       "      <td>kawsar</td>\n",
       "      <td>26.0</td>\n",
       "      <td>CE</td>\n",
       "      <td>90</td>\n",
       "      <td>NaN</td>\n",
       "      <td>False</td>\n",
       "    </tr>\n",
       "    <tr>\n",
       "      <th>3</th>\n",
       "      <td>Sakiba</td>\n",
       "      <td>NaN</td>\n",
       "      <td>CSE</td>\n",
       "      <td>63</td>\n",
       "      <td>2026.0</td>\n",
       "      <td>False</td>\n",
       "    </tr>\n",
       "    <tr>\n",
       "      <th>4</th>\n",
       "      <td>Mominul</td>\n",
       "      <td>25.0</td>\n",
       "      <td>NaN</td>\n",
       "      <td>80</td>\n",
       "      <td>NaN</td>\n",
       "      <td>True</td>\n",
       "    </tr>\n",
       "    <tr>\n",
       "      <th>5</th>\n",
       "      <td>kawsary</td>\n",
       "      <td>26.0</td>\n",
       "      <td>GCE</td>\n",
       "      <td>90</td>\n",
       "      <td>2024.0</td>\n",
       "      <td>False</td>\n",
       "    </tr>\n",
       "  </tbody>\n",
       "</table>\n",
       "</div>"
      ],
      "text/plain": [
       "      Name   Age Dept  Score  Grad. year  Schoolarship\n",
       "0    Sakib  24.0  URP     63      2026.0         False\n",
       "1    Momin  25.0   ME     80      2025.0          True\n",
       "2   kawsar  26.0   CE     90         NaN         False\n",
       "3   Sakiba   NaN  CSE     63      2026.0         False\n",
       "4  Mominul  25.0  NaN     80         NaN          True\n",
       "5  kawsary  26.0  GCE     90      2024.0         False"
      ]
     },
     "metadata": {},
     "output_type": "display_data"
    }
   ],
   "source": [
    "student_data={\"Name\":[\"Sakib\",\"Momin\",\"kawsar\",\"Sakiba\",\"Mominul\",\"kawsary\"],\n",
    "              \"Age\":[24,25,26,np.nan,25,26],\n",
    "              \"Dept\":[\"URP\",\"ME\",\"CE\",\"CSE\",np.nan,\"GCE\"],\n",
    "              \"Score\":[63,80,90,63,80,90],\n",
    "             \"Grad. year\":[2026,2025,np.nan,2026,np.nan,2024],\n",
    "             \"Schoolarship\":[False,True,False,False,True,False]}\n",
    "a=pd.DataFrame(student_data)\n",
    "display(a)"
   ]
  },
  {
   "cell_type": "code",
   "execution_count": 26,
   "id": "c09d12d4",
   "metadata": {},
   "outputs": [
    {
     "name": "stdout",
     "output_type": "stream",
     "text": [
      "Name            0\n",
      "Age             1\n",
      "Dept            1\n",
      "Score           0\n",
      "Grad. year      2\n",
      "Schoolarship    0\n",
      "dtype: int64\n"
     ]
    }
   ],
   "source": [
    "print(a.isnull().sum())"
   ]
  },
  {
   "cell_type": "markdown",
   "id": "0ea3eb6d",
   "metadata": {},
   "source": [
    "fillna. prottek colum er mean dara."
   ]
  },
  {
   "cell_type": "code",
   "execution_count": 23,
   "id": "c67ff79a",
   "metadata": {},
   "outputs": [
    {
     "name": "stdout",
     "output_type": "stream",
     "text": [
      "      Name   Age Dept  Score  Grad. year  Schoolarship\n",
      "0    Sakib  24.0  URP     63     2026.00         False\n",
      "1    Momin  25.0   ME     80     2025.00          True\n",
      "2   kawsar  26.0   CE     90     2025.25         False\n",
      "3   Sakiba  25.2  CSE     63     2026.00         False\n",
      "4  Mominul  25.0  NaN     80     2025.25          True\n",
      "5  kawsary  26.0  GCE     90     2024.00         False\n"
     ]
    },
    {
     "name": "stderr",
     "output_type": "stream",
     "text": [
      "C:\\Users\\User\\AppData\\Local\\Temp\\ipykernel_7220\\2138089913.py:1: FutureWarning: Dropping of nuisance columns in DataFrame reductions (with 'numeric_only=None') is deprecated; in a future version this will raise TypeError.  Select only valid columns before calling the reduction.\n",
      "  print(a.fillna(a.mean()))\n"
     ]
    }
   ],
   "source": [
    "print(a.fillna(a.mean()))"
   ]
  },
  {
   "cell_type": "markdown",
   "id": "5c32e473",
   "metadata": {},
   "source": [
    "missing value gulo 0 dara replace koro"
   ]
  },
  {
   "cell_type": "code",
   "execution_count": 25,
   "id": "82a68cc8",
   "metadata": {},
   "outputs": [
    {
     "name": "stdout",
     "output_type": "stream",
     "text": [
      "      Name   Age Dept  Score  Grad. year  Schoolarship\n",
      "0    Sakib  24.0  URP     63      2026.0         False\n",
      "1    Momin  25.0   ME     80      2025.0          True\n",
      "2   kawsar  26.0   CE     90         0.0         False\n",
      "3   Sakiba   0.0  CSE     63      2026.0         False\n",
      "4  Mominul  25.0    0     80         0.0          True\n",
      "5  kawsary  26.0  GCE     90      2024.0         False\n"
     ]
    }
   ],
   "source": [
    "print(a.fillna(0))"
   ]
  },
  {
   "cell_type": "markdown",
   "id": "c0131571",
   "metadata": {},
   "source": [
    "sudhu ekta ba duita colummn ber korbo"
   ]
  },
  {
   "cell_type": "code",
   "execution_count": 29,
   "id": "f714cfbe",
   "metadata": {},
   "outputs": [
    {
     "data": {
      "text/plain": [
       "0    24.0\n",
       "1    25.0\n",
       "2    26.0\n",
       "3     NaN\n",
       "4    25.0\n",
       "5    26.0\n",
       "Name: Age, dtype: float64"
      ]
     },
     "execution_count": 29,
     "metadata": {},
     "output_type": "execute_result"
    }
   ],
   "source": [
    "a_new=a[\"Age\"]\n",
    "a_new"
   ]
  },
  {
   "cell_type": "markdown",
   "id": "0ae52081",
   "metadata": {},
   "source": [
    "eikhan a list kore nite hobe duita colum chaile"
   ]
  },
  {
   "cell_type": "code",
   "execution_count": 31,
   "id": "41330c8e",
   "metadata": {},
   "outputs": [
    {
     "data": {
      "text/html": [
       "<div>\n",
       "<style scoped>\n",
       "    .dataframe tbody tr th:only-of-type {\n",
       "        vertical-align: middle;\n",
       "    }\n",
       "\n",
       "    .dataframe tbody tr th {\n",
       "        vertical-align: top;\n",
       "    }\n",
       "\n",
       "    .dataframe thead th {\n",
       "        text-align: right;\n",
       "    }\n",
       "</style>\n",
       "<table border=\"1\" class=\"dataframe\">\n",
       "  <thead>\n",
       "    <tr style=\"text-align: right;\">\n",
       "      <th></th>\n",
       "      <th>Age</th>\n",
       "      <th>Score</th>\n",
       "    </tr>\n",
       "  </thead>\n",
       "  <tbody>\n",
       "    <tr>\n",
       "      <th>0</th>\n",
       "      <td>24.0</td>\n",
       "      <td>63</td>\n",
       "    </tr>\n",
       "    <tr>\n",
       "      <th>1</th>\n",
       "      <td>25.0</td>\n",
       "      <td>80</td>\n",
       "    </tr>\n",
       "    <tr>\n",
       "      <th>2</th>\n",
       "      <td>26.0</td>\n",
       "      <td>90</td>\n",
       "    </tr>\n",
       "    <tr>\n",
       "      <th>3</th>\n",
       "      <td>NaN</td>\n",
       "      <td>63</td>\n",
       "    </tr>\n",
       "    <tr>\n",
       "      <th>4</th>\n",
       "      <td>25.0</td>\n",
       "      <td>80</td>\n",
       "    </tr>\n",
       "    <tr>\n",
       "      <th>5</th>\n",
       "      <td>26.0</td>\n",
       "      <td>90</td>\n",
       "    </tr>\n",
       "  </tbody>\n",
       "</table>\n",
       "</div>"
      ],
      "text/plain": [
       "    Age  Score\n",
       "0  24.0     63\n",
       "1  25.0     80\n",
       "2  26.0     90\n",
       "3   NaN     63\n",
       "4  25.0     80\n",
       "5  26.0     90"
      ]
     },
     "execution_count": 31,
     "metadata": {},
     "output_type": "execute_result"
    }
   ],
   "source": [
    "a_new=a[[\"Age\",\"Score\"]]\n",
    "a_new"
   ]
  },
  {
   "cell_type": "code",
   "execution_count": null,
   "id": "1fa60b3f",
   "metadata": {},
   "outputs": [],
   "source": [
    "a_new=a[[\"Age\",\"a.Score\"]]\n",
    "a_new"
   ]
  },
  {
   "cell_type": "markdown",
   "id": "17598483",
   "metadata": {},
   "source": [
    "ekhn a eita sudhu true na false eita show korbe"
   ]
  },
  {
   "cell_type": "code",
   "execution_count": 33,
   "id": "9349aab9",
   "metadata": {},
   "outputs": [
    {
     "data": {
      "text/plain": [
       "1    True\n",
       "2    True\n",
       "4    True\n",
       "5    True\n",
       "Name: Score, dtype: bool"
      ]
     },
     "execution_count": 33,
     "metadata": {},
     "output_type": "execute_result"
    }
   ],
   "source": [
    "a[\"Score\"]>70"
   ]
  },
  {
   "cell_type": "markdown",
   "id": "1685d317",
   "metadata": {},
   "source": [
    "eita te puro column r row show korbe"
   ]
  },
  {
   "cell_type": "code",
   "execution_count": 47,
   "id": "ec480781",
   "metadata": {},
   "outputs": [
    {
     "ename": "TypeError",
     "evalue": "tuple indices must be integers or slices, not str",
     "output_type": "error",
     "traceback": [
      "\u001b[1;31m---------------------------------------------------------------------------\u001b[0m",
      "\u001b[1;31mTypeError\u001b[0m                                 Traceback (most recent call last)",
      "\u001b[1;32m~\\AppData\\Local\\Temp\\ipykernel_7220\\4102714236.py\u001b[0m in \u001b[0;36m<module>\u001b[1;34m\u001b[0m\n\u001b[1;32m----> 1\u001b[1;33m \u001b[0ma\u001b[0m\u001b[1;33m[\u001b[0m\u001b[0ma\u001b[0m\u001b[1;33m[\u001b[0m\u001b[1;34m\"Score\"\u001b[0m\u001b[1;33m]\u001b[0m\u001b[1;33m>\u001b[0m\u001b[1;36m70\u001b[0m\u001b[1;33m]\u001b[0m\u001b[1;33m\u001b[0m\u001b[1;33m\u001b[0m\u001b[0m\n\u001b[0m",
      "\u001b[1;31mTypeError\u001b[0m: tuple indices must be integers or slices, not str"
     ]
    }
   ],
   "source": [
    "a[a[\"Score\"]>70]"
   ]
  },
  {
   "cell_type": "code",
   "execution_count": null,
   "id": "44a6a70c",
   "metadata": {},
   "outputs": [],
   "source": [
    "eita thik korte hobe"
   ]
  },
  {
   "cell_type": "code",
   "execution_count": 44,
   "id": "25f29682",
   "metadata": {},
   "outputs": [
    {
     "ename": "TypeError",
     "evalue": "tuple indices must be integers or slices, not str",
     "output_type": "error",
     "traceback": [
      "\u001b[1;31m---------------------------------------------------------------------------\u001b[0m",
      "\u001b[1;31mTypeError\u001b[0m                                 Traceback (most recent call last)",
      "\u001b[1;32m~\\AppData\\Local\\Temp\\ipykernel_7220\\3988591472.py\u001b[0m in \u001b[0;36m<module>\u001b[1;34m\u001b[0m\n\u001b[1;32m----> 1\u001b[1;33m \u001b[0ma\u001b[0m\u001b[1;33m=\u001b[0m\u001b[0ma\u001b[0m\u001b[1;33m[\u001b[0m\u001b[1;33m[\u001b[0m\u001b[0ma\u001b[0m\u001b[1;33m[\u001b[0m\u001b[1;34m\"Score\"\u001b[0m\u001b[1;33m]\u001b[0m\u001b[1;33m<\u001b[0m\u001b[1;36m75\u001b[0m\u001b[1;33m]\u001b[0m \u001b[1;33m&\u001b[0m \u001b[1;33m[\u001b[0m\u001b[0ma\u001b[0m\u001b[1;33m[\u001b[0m\u001b[1;34m\"Age\"\u001b[0m\u001b[1;33m]\u001b[0m\u001b[1;33m<\u001b[0m\u001b[1;36m25\u001b[0m\u001b[1;33m]\u001b[0m\u001b[1;33m]\u001b[0m\u001b[1;33m\u001b[0m\u001b[1;33m\u001b[0m\u001b[0m\n\u001b[0m",
      "\u001b[1;31mTypeError\u001b[0m: tuple indices must be integers or slices, not str"
     ]
    }
   ],
   "source": [
    "a=a[[a[\"Score\"]<75] & [a[\"Age\"]<25]]"
   ]
  },
  {
   "cell_type": "code",
   "execution_count": null,
   "id": "6f44fc50",
   "metadata": {},
   "outputs": [],
   "source": []
  },
  {
   "cell_type": "code",
   "execution_count": 46,
   "id": "82e8727b",
   "metadata": {},
   "outputs": [
    {
     "ename": "SyntaxError",
     "evalue": "EOL while scanning string literal (1008643296.py, line 1)",
     "output_type": "error",
     "traceback": [
      "\u001b[1;36m  File \u001b[1;32m\"C:\\Users\\User\\AppData\\Local\\Temp\\ipykernel_7220\\1008643296.py\"\u001b[1;36m, line \u001b[1;32m1\u001b[0m\n\u001b[1;33m    a.loc[2,[\"Age\",\"Score]]\u001b[0m\n\u001b[1;37m                           ^\u001b[0m\n\u001b[1;31mSyntaxError\u001b[0m\u001b[1;31m:\u001b[0m EOL while scanning string literal\n"
     ]
    }
   ],
   "source": [
    "a.loc[2,[\"Age\",\"Score]]"
   ]
  },
  {
   "cell_type": "code",
   "execution_count": null,
   "id": "49814df6",
   "metadata": {},
   "outputs": [],
   "source": []
  },
  {
   "cell_type": "code",
   "execution_count": 48,
   "id": "e0902f8c",
   "metadata": {},
   "outputs": [
    {
     "ename": "SyntaxError",
     "evalue": "EOL while scanning string literal (3363262405.py, line 1)",
     "output_type": "error",
     "traceback": [
      "\u001b[1;36m  File \u001b[1;32m\"C:\\Users\\User\\AppData\\Local\\Temp\\ipykernel_7220\\3363262405.py\"\u001b[1;36m, line \u001b[1;32m1\u001b[0m\n\u001b[1;33m    a.iloc[2,[\"Age\",\"Score]]\u001b[0m\n\u001b[1;37m                            ^\u001b[0m\n\u001b[1;31mSyntaxError\u001b[0m\u001b[1;31m:\u001b[0m EOL while scanning string literal\n"
     ]
    }
   ],
   "source": [
    "a.iloc[2,[\"Age\",\"Score]]"
   ]
  },
  {
   "cell_type": "markdown",
   "id": "1f4324bf",
   "metadata": {},
   "source": [
    "excel theke data gula k direct read kore a_1 variable er moddhhe rakhbo"
   ]
  },
  {
   "cell_type": "code",
   "execution_count": null,
   "id": "74fcd50c",
   "metadata": {},
   "outputs": [],
   "source": []
  },
  {
   "cell_type": "code",
   "execution_count": 50,
   "id": "bcc03d43",
   "metadata": {},
   "outputs": [
    {
     "ename": "AttributeError",
     "evalue": "'tuple' object has no attribute 'drop'",
     "output_type": "error",
     "traceback": [
      "\u001b[1;31m---------------------------------------------------------------------------\u001b[0m",
      "\u001b[1;31mAttributeError\u001b[0m                            Traceback (most recent call last)",
      "\u001b[1;32m~\\AppData\\Local\\Temp\\ipykernel_7220\\3827722311.py\u001b[0m in \u001b[0;36m<module>\u001b[1;34m\u001b[0m\n\u001b[1;32m----> 1\u001b[1;33m \u001b[0ma_2\u001b[0m\u001b[1;33m=\u001b[0m\u001b[0ma\u001b[0m\u001b[1;33m.\u001b[0m\u001b[0mdrop\u001b[0m\u001b[1;33m(\u001b[0m\u001b[1;34m\"Age\"\u001b[0m\u001b[1;33m,\u001b[0m\u001b[0maxis\u001b[0m\u001b[1;33m=\u001b[0m\u001b[1;36m1\u001b[0m\u001b[1;33m)\u001b[0m\u001b[1;33m\u001b[0m\u001b[1;33m\u001b[0m\u001b[0m\n\u001b[0m\u001b[0;32m      2\u001b[0m \u001b[0mdisplay\u001b[0m\u001b[1;33m(\u001b[0m\u001b[0ma_2\u001b[0m\u001b[1;33m)\u001b[0m\u001b[1;33m\u001b[0m\u001b[1;33m\u001b[0m\u001b[0m\n",
      "\u001b[1;31mAttributeError\u001b[0m: 'tuple' object has no attribute 'drop'"
     ]
    }
   ],
   "source": [
    "a_2=a.drop(\"Age\",axis=1)\n",
    "display(a_2)"
   ]
  },
  {
   "cell_type": "code",
   "execution_count": null,
   "id": "db9ef96e",
   "metadata": {},
   "outputs": [],
   "source": []
  },
  {
   "cell_type": "code",
   "execution_count": null,
   "id": "8c3678d2",
   "metadata": {},
   "outputs": [],
   "source": [
    "a_1=pd.read_excell(\"\")\n",
    "a_1.to_excell()"
   ]
  }
 ],
 "metadata": {
  "kernelspec": {
   "display_name": "Python 3 (ipykernel)",
   "language": "python",
   "name": "python3"
  },
  "language_info": {
   "codemirror_mode": {
    "name": "ipython",
    "version": 3
   },
   "file_extension": ".py",
   "mimetype": "text/x-python",
   "name": "python",
   "nbconvert_exporter": "python",
   "pygments_lexer": "ipython3",
   "version": "3.9.13"
  }
 },
 "nbformat": 4,
 "nbformat_minor": 5
}

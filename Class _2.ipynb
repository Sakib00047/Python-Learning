{
 "cells": [
  {
   "cell_type": "code",
   "execution_count": 7,
   "id": "10ef4990-ead1-4298-8733-312c774d2dd4",
   "metadata": {},
   "outputs": [
    {
     "name": "stdout",
     "output_type": "stream",
     "text": [
      "<class 'int'>\n",
      "<class 'str'>\n"
     ]
    },
    {
     "name": "stdin",
     "output_type": "stream",
     "text": [
      "Enter your age:  20\n"
     ]
    },
    {
     "name": "stdout",
     "output_type": "stream",
     "text": [
      "You are 20 years old\n",
      "<class 'int'>\n"
     ]
    },
    {
     "name": "stdin",
     "output_type": "stream",
     "text": [
      "Enter first name:  Md \n",
      "Enter last name:  Sakib\n"
     ]
    },
    {
     "name": "stdout",
     "output_type": "stream",
     "text": [
      "Hello Mr. Md  Sakib\n"
     ]
    }
   ],
   "source": [
    "salary = 60000\n",
    "print(type(salary))  # Output: <class 'int'>\n",
    "\n",
    "Name = \"Md Sakib Rana\"\n",
    "print(type(Name))  # Output: <class 'str'>\n",
    "\n",
    "age = int(input(\"Enter your age: \"))  # Fixed the input prompt\n",
    "print(\"You are\", age, \"years old\")\n",
    "print(type(age))  # Output: <class 'int'>\n",
    "\n",
    "fName = input('Enter first name: ')\n",
    "lName = input('Enter last name: ')\n",
    "\n",
    "fullname = fName + ' ' + lName  # Added space between first and last name\n",
    "print('Hello Mr.', fullname)"
   ]
  },
  {
   "cell_type": "code",
   "execution_count": 9,
   "id": "91da6103",
   "metadata": {},
   "outputs": [
    {
     "name": "stdin",
     "output_type": "stream",
     "text": [
      "enter the integer number:  20\n"
     ]
    },
    {
     "name": "stdout",
     "output_type": "stream",
     "text": [
      "20 is even\n"
     ]
    }
   ],
   "source": [
    "#python if else branching\n",
    "\n",
    "number=int(input('enter the integer number: '))\n",
    "if number%2==0:\n",
    "    print(number, 'is even')\n",
    "else:\n",
    "    print(number,'is odd')"
   ]
  },
  {
   "cell_type": "code",
   "execution_count": 11,
   "id": "53508df6",
   "metadata": {},
   "outputs": [
    {
     "name": "stdin",
     "output_type": "stream",
     "text": [
      "enter total; Marks:  55\n"
     ]
    },
    {
     "name": "stdout",
     "output_type": "stream",
     "text": [
      "you have got C\n"
     ]
    }
   ],
   "source": [
    "# Results System using if-else\n",
    "marks= input('enter total; Marks: ')\n",
    "marks=int(marks)\n",
    "\n",
    "if marks>=80:\n",
    "    print('You have got A+')\n",
    "elif marks>=70 and marks<80:\n",
    "    print('you have got A')\n",
    "elif marks>=60 and marks<70:\n",
    "    print('you have got B')\n",
    "elif marks>=50 and marks<60:\n",
    "    print('you have got C')\n",
    "elif marks>=40 and marks<50:\n",
    "    print('you have got D')\n",
    "else:\n",
    "    print('FAILED!!')"
   ]
  },
  {
   "cell_type": "code",
   "execution_count": 13,
   "id": "93394f88",
   "metadata": {},
   "outputs": [
    {
     "name": "stdout",
     "output_type": "stream",
     "text": [
      "['pizza', 'Burger', 'Biriyani', 'pasta']\n",
      "4\n",
      "It is out of Stock\n"
     ]
    }
   ],
   "source": [
    "#list/Array in python\n",
    "\n",
    "food_item=['pizza','Burger','Biriyani','pasta']\n",
    "print(food_item)\n",
    "print(len(food_item))\n",
    "\n",
    "if 'Rice' in food_item:\n",
    "    print('It is in Stock')\n",
    "else:\n",
    "    print('It is out of Stock')"
   ]
  },
  {
   "cell_type": "code",
   "execution_count": 15,
   "id": "766769f6",
   "metadata": {},
   "outputs": [
    {
     "name": "stdout",
     "output_type": "stream",
     "text": [
      "[1, 3, 5, 9, 11]\n"
     ]
    }
   ],
   "source": [
    "number=[1,3,5,9,11]\n",
    "print(number)"
   ]
  },
  {
   "cell_type": "code",
   "execution_count": 17,
   "id": "7b98ec88",
   "metadata": {},
   "outputs": [
    {
     "name": "stdout",
     "output_type": "stream",
     "text": [
      "['khan', 'RUET Rajshahi', 6500.0, 25, (2+3j)]\n"
     ]
    },
    {
     "data": {
      "text/plain": [
       "list"
      ]
     },
     "execution_count": 17,
     "metadata": {},
     "output_type": "execute_result"
    }
   ],
   "source": [
    "mixed_list=['khan','RUET Rajshahi',6500.0,25,2+3j]\n",
    "print(mixed_list)\n",
    "type(mixed_list)"
   ]
  },
  {
   "cell_type": "code",
   "execution_count": 19,
   "id": "46f7bc0f",
   "metadata": {},
   "outputs": [
    {
     "name": "stdout",
     "output_type": "stream",
     "text": [
      "{'Germany': 'Berlin', 'Canada': 'Ottowa', 'Bangladesh': 'Dhaka'}\n",
      "{'Germany': 'Berlin', 'Canada': 'Ottowa', 'Bangladesh': 'Dhaka', 'Italy': 'Rome'}\n"
     ]
    }
   ],
   "source": [
    "#python Dictionary\n",
    "\n",
    "\n",
    "Country_Vs_Capitals={\n",
    "    \"Germany\":\"Berlin\",\n",
    "    \"Canada\":\"Ottowa\",\n",
    "    \"Bangladesh\":\"Dhaka\"\n",
    "}\n",
    "print(Country_Vs_Capitals)\n",
    "Country_Vs_Capitals[\"Italy\"] = \"Rome\"\n",
    "print(Country_Vs_Capitals)"
   ]
  },
  {
   "cell_type": "code",
   "execution_count": 21,
   "id": "80355c1f",
   "metadata": {},
   "outputs": [
    {
     "name": "stdout",
     "output_type": "stream",
     "text": [
      "[3, 5, 9, 11]\n",
      "[1, 3]\n"
     ]
    },
    {
     "data": {
      "text/plain": [
       "list"
      ]
     },
     "execution_count": 21,
     "metadata": {},
     "output_type": "execute_result"
    }
   ],
   "source": [
    "number=[1,3,5,9,11]\n",
    "print(number[1:])\n",
    "print(number[:2])\n",
    "type(number)"
   ]
  },
  {
   "cell_type": "code",
   "execution_count": 23,
   "id": "d74ee93c",
   "metadata": {},
   "outputs": [
    {
     "data": {
      "text/plain": [
       "tuple"
      ]
     },
     "execution_count": 23,
     "metadata": {},
     "output_type": "execute_result"
    }
   ],
   "source": [
    "number=(1,3,5,9,11)\n",
    "type(number)"
   ]
  },
  {
   "cell_type": "code",
   "execution_count": 25,
   "id": "64c67da9",
   "metadata": {},
   "outputs": [
    {
     "name": "stdout",
     "output_type": "stream",
     "text": [
      "0 1 2 3 4 5 6 7 8 9 "
     ]
    }
   ],
   "source": [
    "#loop in pythone.\n",
    "#for loop\n",
    "\n",
    "for i in range (0,10,1):\n",
    "    print(i, end= ' ')"
   ]
  },
  {
   "cell_type": "code",
   "execution_count": 27,
   "id": "e95cec2c",
   "metadata": {},
   "outputs": [
    {
     "name": "stdout",
     "output_type": "stream",
     "text": [
      "2\n",
      "4\n",
      "6\n",
      "10\n",
      "12\n"
     ]
    }
   ],
   "source": [
    "numbers= [1,2,3,4,5,6,7,10,12]\n",
    "for number in numbers:       #foreach loop\n",
    "    if number%2==0:\n",
    "        print(number)"
   ]
  },
  {
   "cell_type": "code",
   "execution_count": 29,
   "id": "ba14eb29",
   "metadata": {},
   "outputs": [
    {
     "name": "stdout",
     "output_type": "stream",
     "text": [
      "2 4 6 10 12 "
     ]
    }
   ],
   "source": [
    "numbers= [1,2,3,4,5,6,7,10,12]\n",
    "for i in range (0, len(numbers),1):\n",
    "    if numbers[i]%2==0:\n",
    "        print(numbers[i],end= ' ')"
   ]
  },
  {
   "cell_type": "code",
   "execution_count": 31,
   "id": "dbf377dd",
   "metadata": {},
   "outputs": [
    {
     "name": "stdout",
     "output_type": "stream",
     "text": [
      "(5+10j) (0.4655172413793104-0.08620689655172416j) 3.605551275463989\n"
     ]
    }
   ],
   "source": [
    "#complex numbers\n",
    "c1=2+3j\n",
    "c2=3+7j\n",
    "\n",
    "c3=c1+c2\n",
    "c4=c1/c2\n",
    "c5=abs(c1)\n",
    "print(c3,c4,c5)"
   ]
  },
  {
   "cell_type": "code",
   "execution_count": 33,
   "id": "21089908",
   "metadata": {},
   "outputs": [
    {
     "name": "stdout",
     "output_type": "stream",
     "text": [
      "(-5+12j)\n"
     ]
    }
   ],
   "source": [
    "c6=c1**2\n",
    "print(c6)\n"
   ]
  },
  {
   "cell_type": "code",
   "execution_count": 35,
   "id": "c83eb94b",
   "metadata": {},
   "outputs": [
    {
     "name": "stdout",
     "output_type": "stream",
     "text": [
      "Sum of even numbers: 56\n",
      "Sum of odd numbers: 64\n"
     ]
    }
   ],
   "source": [
    "numbers = list(range(1, 16))\n",
    "\n",
    "odd_sum = 0\n",
    "even_sum = 0\n",
    "\n",
    "for num in numbers:\n",
    "    if num % 2 == 0:\n",
    "        even_sum += num\n",
    "    else:\n",
    "        odd_sum += num\n",
    "\n",
    "print(\"Sum of even numbers:\", even_sum)\n",
    "print(\"Sum of odd numbers:\", odd_sum)\n",
    "        "
   ]
  },
  {
   "cell_type": "code",
   "execution_count": 37,
   "id": "4c23bb3e",
   "metadata": {},
   "outputs": [
    {
     "name": "stdout",
     "output_type": "stream",
     "text": [
      "8\n",
      "-2\n",
      "15\n",
      "0.6\n",
      "243\n",
      "0\n"
     ]
    }
   ],
   "source": [
    "X=3\n",
    "Y=5\n",
    "print(X+Y)\n",
    "print(X-Y)\n",
    "print(X*Y)\n",
    "print(X/Y)\n",
    "print(X**Y)\n",
    "print(X//Y)"
   ]
  },
  {
   "cell_type": "code",
   "execution_count": 39,
   "id": "cf8ae4c4",
   "metadata": {},
   "outputs": [
    {
     "name": "stdin",
     "output_type": "stream",
     "text": [
      "enter num:  520\n"
     ]
    },
    {
     "name": "stdout",
     "output_type": "stream",
     "text": [
      "135460\n"
     ]
    }
   ],
   "source": [
    "# Loop \n",
    "n=int(input(\"enter num: \"))\n",
    "sum=0\n",
    "i=1\n",
    "\n",
    "while i<=n:\n",
    "    sum=sum+i\n",
    "    i=i+1\n",
    "    \n",
    "print(sum)\n"
   ]
  },
  {
   "cell_type": "code",
   "execution_count": 41,
   "id": "2aefffed-7f0d-4ca2-97f6-2b502be34117",
   "metadata": {},
   "outputs": [
    {
     "name": "stdin",
     "output_type": "stream",
     "text": [
      "Enter num (or type 'quit' to exit):  quit\n"
     ]
    }
   ],
   "source": [
    "total_sum = 0  # Renamed variable from `sum` to `total_sum`\n",
    "\n",
    "while True:\n",
    "    num = input(\"Enter num (or type 'quit' to exit): \")\n",
    "    \n",
    "    if num == \"quit\":  # Fixed condition\n",
    "        break\n",
    "\n",
    "    try:\n",
    "        num = int(num)\n",
    "    except ValueError:  # Specific exception for invalid numbers\n",
    "        print(\"Enter a valid number:\")\n",
    "        continue\n",
    "\n",
    "    total_sum += num  # Adding valid numbers to the sum\n",
    "    print(\"Current sum:\", total_sum)"
   ]
  },
  {
   "cell_type": "code",
   "execution_count": null,
   "id": "0209d834-41a9-46ab-aa05-d32452a7cef0",
   "metadata": {},
   "outputs": [],
   "source": []
  }
 ],
 "metadata": {
  "kernelspec": {
   "display_name": "Python [conda env:base] *",
   "language": "python",
   "name": "conda-base-py"
  },
  "language_info": {
   "codemirror_mode": {
    "name": "ipython",
    "version": 3
   },
   "file_extension": ".py",
   "mimetype": "text/x-python",
   "name": "python",
   "nbconvert_exporter": "python",
   "pygments_lexer": "ipython3",
   "version": "3.12.4"
  }
 },
 "nbformat": 4,
 "nbformat_minor": 5
}

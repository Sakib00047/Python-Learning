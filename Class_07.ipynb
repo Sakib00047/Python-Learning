{
 "cells": [
  {
   "cell_type": "code",
   "execution_count": 12,
   "id": "33410e29",
   "metadata": {},
   "outputs": [
    {
     "name": "stdout",
     "output_type": "stream",
     "text": [
      "400\n"
     ]
    }
   ],
   "source": [
    "# Deorated function\n",
    "\n",
    "def decorate1(func):\n",
    "    def inner():\n",
    "        x = func()\n",
    "        return x * x  # Square the result of func()\n",
    "    return inner\n",
    "\n",
    "def decorate2(func):\n",
    "    def inner():\n",
    "        x = func()\n",
    "        return 2 * x  # Multiply the result of func() by 2\n",
    "    return inner\n",
    "\n",
    "@decorate1\n",
    "@decorate2\n",
    "def number():\n",
    "    return 10  # Returns 10\n",
    "\n",
    "print(number())  # Output: 400"
   ]
  },
  {
   "cell_type": "code",
   "execution_count": 6,
   "id": "53e736ef",
   "metadata": {},
   "outputs": [
    {
     "name": "stdout",
     "output_type": "stream",
     "text": [
      "5 7 1\n"
     ]
    }
   ],
   "source": [
    "## polimorfiszm in function\n",
    "\n",
    "a=[1,2,3,4,5]\n",
    "b=\"RUETURP\"\n",
    "c=[\"RUETURP\"]\n",
    "\n",
    "print(len(a),len(b),len(c))\n",
    "\n"
   ]
  },
  {
   "cell_type": "code",
   "execution_count": 8,
   "id": "7f7bd5dc",
   "metadata": {},
   "outputs": [
    {
     "name": "stdout",
     "output_type": "stream",
     "text": [
      "[1, 2, 3, 4, 5, 2, 4, 5]\n"
     ]
    }
   ],
   "source": [
    "### polimorfiszm in operand\n",
    "a=1\n",
    "b=3\n",
    "c=a+b\n",
    "a1=[1,2,3,4,5]\n",
    "a2=[2,4,5]\n",
    "c1=a1+a2\n",
    "print(c1)"
   ]
  },
  {
   "cell_type": "code",
   "execution_count": 14,
   "id": "9f46a78a",
   "metadata": {},
   "outputs": [],
   "source": [
    "## define Python class \n",
    "\n",
    "class Dog:\n",
    "    def __init__(self,name,age,birth):\n",
    "        self.name=name\n",
    "        self.age=age\n",
    "        self.birth=birth\n",
    "    def shout(self):\n",
    "        return f\"{self.name} whos age is {self.age} from {self.birth} is burking\""
   ]
  },
  {
   "cell_type": "code",
   "execution_count": 15,
   "id": "2a06746a",
   "metadata": {},
   "outputs": [
    {
     "name": "stdout",
     "output_type": "stream",
     "text": [
      "Lyca\n",
      "Lyba\n"
     ]
    }
   ],
   "source": [
    "dog1=Dog(\"Lyca\",5,\"BD\")\n",
    "dog2=Dog(\"Lyba\",6,\"USA\")\n",
    "\n",
    "print(dog1.name)\n",
    "print(dog2.name)"
   ]
  },
  {
   "cell_type": "code",
   "execution_count": 16,
   "id": "a1e743f4",
   "metadata": {},
   "outputs": [
    {
     "name": "stdout",
     "output_type": "stream",
     "text": [
      "change_lyca\n",
      "Lyba\n",
      "change_lyca\n",
      "change_lyca whos age is 5 from BD is burking\n"
     ]
    }
   ],
   "source": [
    "dog1.name=\"change_lyca\"\n",
    "print(dog1.name)\n",
    "print(dog2.name)\n",
    "\n",
    "print(dog1.name)\n",
    "print(dog1.shout())"
   ]
  },
  {
   "cell_type": "code",
   "execution_count": 18,
   "id": "ca133d4c",
   "metadata": {},
   "outputs": [],
   "source": [
    "class Dog:\n",
    "    size_dog=\"Larger\"\n",
    "    def __init__(self,name,age,birth):\n",
    "        self.name=name\n",
    "        self.age=age\n",
    "        self.birth=birth\n",
    "    def shout(self):\n",
    "        return f\"{self.name} whos age is {self.age} from {self.birth} is burking\""
   ]
  },
  {
   "cell_type": "code",
   "execution_count": 19,
   "id": "91af7d46",
   "metadata": {},
   "outputs": [
    {
     "name": "stdout",
     "output_type": "stream",
     "text": [
      "Larger\n",
      "Larger\n"
     ]
    }
   ],
   "source": [
    "dog1=Dog(\"Lyca\",5,\"BD\")\n",
    "dog2=Dog(\"Lyba\",6,\"USA\")\n",
    "\n",
    "print(dog1.size_dog)\n",
    "print(dog2.size_dog)"
   ]
  },
  {
   "cell_type": "code",
   "execution_count": 22,
   "id": "b9ce21f4",
   "metadata": {},
   "outputs": [],
   "source": [
    "import numpy as np"
   ]
  },
  {
   "cell_type": "code",
   "execution_count": 32,
   "id": "79a8f980",
   "metadata": {},
   "outputs": [],
   "source": [
    "## inheritence \n",
    "## subclass a jodi oi kaj na thake tahole parental class a kaj korbe. r jodi child a na thake taile \n",
    "# se parent a print korbe noito child ei korbo. eita ke inheritance bole\n",
    "\n",
    "\n",
    "class Circle():\n",
    "    def __init__(self,radius):\n",
    "        self.name=\"Circle\" # protected atrribute\n",
    "        self.radius=radius\n",
    "    def area(self):\n",
    "        return np.pi*self.radius**2\n",
    "    def info(self):\n",
    "        return \"I am a Circle\"\n",
    "    \n",
    "class Square():\n",
    "    def __init__(self,length):\n",
    "        \n",
    "        self.length= length\n",
    "    def area(self):\n",
    "        return self.length**2\n",
    "    def info(self):\n",
    "        return \"I am a square\"\n",
    "multi_obj = [Circle(2),Circle(3),Square(4),Square(5)]"
   ]
  },
  {
   "cell_type": "code",
   "execution_count": 33,
   "id": "9c598d1b",
   "metadata": {},
   "outputs": [
    {
     "name": "stdout",
     "output_type": "stream",
     "text": [
      "I am a Circle 12.566370614359172\n",
      "I am a Circle 28.274333882308138\n",
      "I am a square 16\n",
      "I am a square 25\n"
     ]
    }
   ],
   "source": [
    "for obj in multi_obj:\n",
    "    print(obj.info(),obj.area())"
   ]
  },
  {
   "cell_type": "code",
   "execution_count": 41,
   "id": "b7faaffc",
   "metadata": {},
   "outputs": [],
   "source": [
    "# inheritance\n",
    "\n",
    "class Shape():\n",
    "    def __init__(self,name):\n",
    "        \n",
    "        self.name= name\n",
    "    def area(self):\n",
    "        pass\n",
    "    def info(self):\n",
    "        return \"I am a 2D shape\"\n",
    "    \n",
    "class Circle(Shape):\n",
    "    def __init__(self,radius):\n",
    "        self.radius= radius\n",
    "    def area(self):\n",
    "        return np.pi*self.radius**2\n",
    "    def info(self):\n",
    "        print(super().info()) # circle er moddhe super class k cal kora jai jodi function a a thake\n",
    "        return \"O I am a Circle\"\n",
    "    \n",
    "class Square(Shape):\n",
    "    def __init__(self,length):\n",
    "        \n",
    "        self.length= length\n",
    "    def area(self):\n",
    "        return self.length**2\n",
    "    \n",
    "multi_obj = [Circle(2),Circle(3),Square(4),Square(6)]\n",
    "    "
   ]
  },
  {
   "cell_type": "code",
   "execution_count": 45,
   "id": "ba1a5cac",
   "metadata": {},
   "outputs": [
    {
     "name": "stdout",
     "output_type": "stream",
     "text": [
      "I am a 2D shape\n"
     ]
    },
    {
     "data": {
      "text/plain": [
       "'O I am a Circle'"
      ]
     },
     "execution_count": 45,
     "metadata": {},
     "output_type": "execute_result"
    }
   ],
   "source": [
    "circle1 = Circle(2)\n",
    "square1 = Square(4)\n",
    "circle1.info()\n"
   ]
  },
  {
   "cell_type": "code",
   "execution_count": 43,
   "id": "0908a549",
   "metadata": {},
   "outputs": [
    {
     "name": "stdout",
     "output_type": "stream",
     "text": [
      "I am a 2D shape\n",
      "O I am a Circle\n",
      "I am a 2D shape\n",
      "O I am a Circle\n",
      "I am a 2D shape\n",
      "I am a 2D shape\n"
     ]
    }
   ],
   "source": [
    "for obj in multi_obj:\n",
    "    print(obj.info())"
   ]
  },
  {
   "cell_type": "code",
   "execution_count": 2,
   "id": "a9d7550f",
   "metadata": {},
   "outputs": [
    {
     "name": "stdout",
     "output_type": "stream",
     "text": [
      "Account holder: John Doe\n",
      "Initial balance: 1000\n",
      "500 deposited successfully!\n",
      "Balance after deposit: 1500\n",
      "300 withdrawn successfully!\n",
      "Balance after withdrawal: 1200\n",
      "Accessing private attribute: 1200\n"
     ]
    }
   ],
   "source": [
    "## inheritnace r ekta vabe j kora jai jemn a mane super class aber b mane child class ei j way te  kora jai take abstract bole\n",
    "\n",
    "## Encapsulation \n",
    "\n",
    "class BankAccount:\n",
    "    def __init__(self, account_holder, balance):\n",
    "        self.account_holder = account_holder  # Public attribute\n",
    "        self.__balance = balance  # Private attribute (encapsulated)\n",
    "\n",
    "    # Method to view balance (Getter)\n",
    "    def get_balance(self):\n",
    "        return self.__balance\n",
    "\n",
    "    # Method to deposit money (Setter)\n",
    "    def deposit(self, amount):\n",
    "        if amount > 0:\n",
    "            self.__balance += amount\n",
    "            print(f\"{amount} deposited successfully!\")\n",
    "        else:\n",
    "            print(\"Deposit amount must be positive!\")\n",
    "\n",
    "    # Method to withdraw money\n",
    "    def withdraw(self, amount):\n",
    "        if 0 < amount <= self.__balance:\n",
    "            self.__balance -= amount\n",
    "            print(f\"{amount} withdrawn successfully!\")\n",
    "        else:\n",
    "            print(\"Insufficient balance or invalid amount!\")\n",
    "\n",
    "# Create an instance of BankAccount\n",
    "account = BankAccount(\"John Doe\", 1000)\n",
    "\n",
    "# Accessing balance using the getter method\n",
    "print(f\"Account holder: {account.account_holder}\")\n",
    "print(f\"Initial balance: {account.get_balance()}\")\n",
    "\n",
    "# Deposit money\n",
    "account.deposit(500)\n",
    "print(f\"Balance after deposit: {account.get_balance()}\")\n",
    "\n",
    "# Withdraw money\n",
    "account.withdraw(300)\n",
    "print(f\"Balance after withdrawal: {account.get_balance()}\")\n",
    "\n",
    "# Trying to access private attribute directly (will raise an error)\n",
    "# print(account.__balance)  # AttributeError: 'BankAccount' object has no attribute '__balance'\n",
    "\n",
    "# Access private attribute indirectly (not recommended)\n",
    "print(f\"Accessing private attribute: {account._BankAccount__balance}\")\n"
   ]
  },
  {
   "cell_type": "code",
   "execution_count": 4,
   "id": "0cb45c66-6691-4f05-8011-da66711ff836",
   "metadata": {},
   "outputs": [
    {
     "name": "stdout",
     "output_type": "stream",
     "text": [
      "\n",
      "1. Create Account\n",
      "2. Deposit Money\n",
      "3. Withdraw Money\n",
      "4. Check Balance\n",
      "5. Exit\n"
     ]
    },
    {
     "name": "stdin",
     "output_type": "stream",
     "text": [
      "Enter your choice:  1\n",
      "Enter account holder's name:  Md Sakib Rana\n",
      "Enter initial balance:  1000\n"
     ]
    },
    {
     "name": "stdout",
     "output_type": "stream",
     "text": [
      "Account created for Md Sakib Rana with balance 1000.0.\n",
      "\n",
      "\n",
      "1. Create Account\n",
      "2. Deposit Money\n",
      "3. Withdraw Money\n",
      "4. Check Balance\n",
      "5. Exit\n"
     ]
    },
    {
     "name": "stdin",
     "output_type": "stream",
     "text": [
      "Enter your choice:  4\n",
      "Enter account holder's name:  Md Sakib Rana\n"
     ]
    },
    {
     "name": "stdout",
     "output_type": "stream",
     "text": [
      "Md Sakib Rana's current balance: 1000.0\n",
      "\n",
      "1. Create Account\n",
      "2. Deposit Money\n",
      "3. Withdraw Money\n",
      "4. Check Balance\n",
      "5. Exit\n"
     ]
    },
    {
     "name": "stdin",
     "output_type": "stream",
     "text": [
      "Enter your choice:  3\n",
      "Enter account holder's name:  Md Sakib Rana\n",
      "Enter amount to withdraw:  500\n"
     ]
    },
    {
     "name": "stdout",
     "output_type": "stream",
     "text": [
      "500.0 withdrawn successfully from Md Sakib Rana's account!\n",
      "\n",
      "1. Create Account\n",
      "2. Deposit Money\n",
      "3. Withdraw Money\n",
      "4. Check Balance\n",
      "5. Exit\n"
     ]
    },
    {
     "name": "stdin",
     "output_type": "stream",
     "text": [
      "Enter your choice:  4\n",
      "Enter account holder's name:  Md sakib Rana\n"
     ]
    },
    {
     "name": "stdout",
     "output_type": "stream",
     "text": [
      "No account found for Md sakib Rana!\n",
      "\n",
      "1. Create Account\n",
      "2. Deposit Money\n",
      "3. Withdraw Money\n",
      "4. Check Balance\n",
      "5. Exit\n"
     ]
    },
    {
     "name": "stdin",
     "output_type": "stream",
     "text": [
      "Enter your choice:  4\n",
      "Enter account holder's name:  Md Sakib Rana\n"
     ]
    },
    {
     "name": "stdout",
     "output_type": "stream",
     "text": [
      "Md Sakib Rana's current balance: 500.0\n",
      "\n",
      "1. Create Account\n",
      "2. Deposit Money\n",
      "3. Withdraw Money\n",
      "4. Check Balance\n",
      "5. Exit\n"
     ]
    },
    {
     "name": "stdin",
     "output_type": "stream",
     "text": [
      "Enter your choice:  5\n"
     ]
    },
    {
     "name": "stdout",
     "output_type": "stream",
     "text": [
      "Exiting the system. Goodbye!\n"
     ]
    }
   ],
   "source": [
    "# Using Encapsulation to create a bank account for the multiple persons \n",
    "# Name and account details\n",
    "\n",
    "class BankAccount:\n",
    "    def __init__(self, account_holder, initial_balance=0):\n",
    "        self.account_holder = account_holder  # Public attribute\n",
    "        self.__balance = initial_balance  # Private attribute (encapsulated)\n",
    "\n",
    "    # Method to view balance (Getter)\n",
    "    def get_balance(self):\n",
    "        return self.__balance\n",
    "\n",
    "    # Method to deposit money (Setter)\n",
    "    def deposit(self, amount):\n",
    "        if amount > 0:\n",
    "            self.__balance += amount\n",
    "            print(f\"{amount} deposited successfully into {self.account_holder}'s account!\")\n",
    "        else:\n",
    "            print(\"Deposit amount must be positive!\")\n",
    "\n",
    "    # Method to withdraw money\n",
    "    def withdraw(self, amount):\n",
    "        if 0 < amount <= self.__balance:\n",
    "            self.__balance -= amount\n",
    "            print(f\"{amount} withdrawn successfully from {self.account_holder}'s account!\")\n",
    "        else:\n",
    "            print(\"Insufficient balance or invalid amount!\")\n",
    "\n",
    "# Function to create multiple accounts and manage them\n",
    "def manage_accounts():\n",
    "    accounts = {}  # Dictionary to store accounts by name\n",
    "\n",
    "    while True:\n",
    "        print(\"\\n1. Create Account\")\n",
    "        print(\"2. Deposit Money\")\n",
    "        print(\"3. Withdraw Money\")\n",
    "        print(\"4. Check Balance\")\n",
    "        print(\"5. Exit\")\n",
    "        choice = input(\"Enter your choice: \")\n",
    "\n",
    "        if choice == \"1\":\n",
    "            name = input(\"Enter account holder's name: \")\n",
    "            initial_balance = float(input(\"Enter initial balance: \"))\n",
    "            accounts[name] = BankAccount(name, initial_balance)\n",
    "            print(f\"Account created for {name} with balance {initial_balance}.\\n\")\n",
    "\n",
    "        elif choice == \"2\":\n",
    "            name = input(\"Enter account holder's name: \")\n",
    "            if name in accounts:\n",
    "                amount = float(input(\"Enter amount to deposit: \"))\n",
    "                accounts[name].deposit(amount)\n",
    "            else:\n",
    "                print(f\"No account found for {name}!\")\n",
    "\n",
    "        elif choice == \"3\":\n",
    "            name = input(\"Enter account holder's name: \")\n",
    "            if name in accounts:\n",
    "                amount = float(input(\"Enter amount to withdraw: \"))\n",
    "                accounts[name].withdraw(amount)\n",
    "            else:\n",
    "                print(f\"No account found for {name}!\")\n",
    "\n",
    "        elif choice == \"4\":\n",
    "            name = input(\"Enter account holder's name: \")\n",
    "            if name in accounts:\n",
    "                print(f\"{name}'s current balance: {accounts[name].get_balance()}\")\n",
    "            else:\n",
    "                print(f\"No account found for {name}!\")\n",
    "\n",
    "        elif choice == \"5\":\n",
    "            print(\"Exiting the system. Goodbye!\")\n",
    "            break\n",
    "\n",
    "        else:\n",
    "            print(\"Invalid choice. Please try again!\")\n",
    "\n",
    "# Run the program\n",
    "manage_accounts()"
   ]
  },
  {
   "cell_type": "code",
   "execution_count": null,
   "id": "6ba51bd8-49c3-4b84-9259-6e2beb392c31",
   "metadata": {},
   "outputs": [],
   "source": []
  }
 ],
 "metadata": {
  "kernelspec": {
   "display_name": "Python [conda env:base] *",
   "language": "python",
   "name": "conda-base-py"
  },
  "language_info": {
   "codemirror_mode": {
    "name": "ipython",
    "version": 3
   },
   "file_extension": ".py",
   "mimetype": "text/x-python",
   "name": "python",
   "nbconvert_exporter": "python",
   "pygments_lexer": "ipython3",
   "version": "3.12.4"
  }
 },
 "nbformat": 4,
 "nbformat_minor": 5
}
